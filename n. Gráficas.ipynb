{
 "cells": [
  {
   "cell_type": "markdown",
   "metadata": {},
   "source": [
    "# <font color='red'> <center>GRÁFICAS 2D</center></font>\n",
    "Para poder visualizar información y crear gráficas, Python cuenta con una cantidad grande de paquetes para esta tarea, algunos de los mas famosos son:\n",
    "\n",
    "- Matplotlib\n",
    "- Seaborn\n",
    "- Plotly\n",
    "\n",
    "En esta parte se trabajará con matplotlib, ya que cuenta con gran cantidad de recursos y guias en internet. Las gráficas se pueden crear a partir de listas, diccionarios o como se va a mostrar a continuación, con arreglos.\n",
    "\n",
    "Documentación oficial: https://matplotlib.org/contents.html"
   ]
  },
  {
   "cell_type": "code",
   "execution_count": 2,
   "metadata": {},
   "outputs": [
    {
     "ename": "ModuleNotFoundError",
     "evalue": "No module named 'matplotlib'",
     "output_type": "error",
     "traceback": [
      "\u001b[1;31m---------------------------------------------------------------------------\u001b[0m",
      "\u001b[1;31mModuleNotFoundError\u001b[0m                       Traceback (most recent call last)",
      "Cell \u001b[1;32mIn[2], line 1\u001b[0m\n\u001b[1;32m----> 1\u001b[0m \u001b[39mimport\u001b[39;00m \u001b[39mmatplotlib\u001b[39;00m\u001b[39m.\u001b[39;00m\u001b[39mpyplot\u001b[39;00m \u001b[39mas\u001b[39;00m \u001b[39mplt\u001b[39;00m\n\u001b[0;32m      2\u001b[0m \u001b[39mimport\u001b[39;00m \u001b[39mnumpy\u001b[39;00m \u001b[39mas\u001b[39;00m \u001b[39mnp\u001b[39;00m\n",
      "\u001b[1;31mModuleNotFoundError\u001b[0m: No module named 'matplotlib'"
     ]
    }
   ],
   "source": [
    "import matplotlib.pyplot as plt\n",
    "import numpy as np"
   ]
  },
  {
   "cell_type": "code",
   "execution_count": 1,
   "metadata": {},
   "outputs": [
    {
     "ename": "NameError",
     "evalue": "name 'np' is not defined",
     "output_type": "error",
     "traceback": [
      "\u001b[1;31m---------------------------------------------------------------------------\u001b[0m",
      "\u001b[1;31mNameError\u001b[0m                                 Traceback (most recent call last)",
      "Cell \u001b[1;32mIn[1], line 1\u001b[0m\n\u001b[1;32m----> 1\u001b[0m x\u001b[39m=\u001b[39mnp\u001b[39m.\u001b[39marange(\u001b[39m-\u001b[39m\u001b[39m10\u001b[39m,\u001b[39m11\u001b[39m,\u001b[39m2\u001b[39m)\n\u001b[0;32m      2\u001b[0m \u001b[39mprint\u001b[39m(\u001b[39m\"\u001b[39m\u001b[39mx\u001b[39m\u001b[39m\"\u001b[39m,x)\n\u001b[0;32m      3\u001b[0m y\u001b[39m=\u001b[39m\u001b[39m-\u001b[39m\u001b[39m5\u001b[39m\u001b[39m*\u001b[39mx\u001b[39m*\u001b[39m\u001b[39m*\u001b[39m\u001b[39m2\u001b[39m \u001b[39m+\u001b[39m \u001b[39m50\u001b[39m\n",
      "\u001b[1;31mNameError\u001b[0m: name 'np' is not defined"
     ]
    }
   ],
   "source": [
    "x=np.arange(-10,11,2)\n",
    "print(\"x\",x)\n",
    "y=-5*x**2 + 50\n",
    "print(\"y\",y)\n",
    "plt.title('Titulo')\n",
    "plt.ylabel('Eje Y')\n",
    "plt.xlabel('Eje X')\n",
    "plt.plot(x,y,'rD', markersize=10) \n",
    "plt.grid()\n",
    "plt.show()"
   ]
  },
  {
   "cell_type": "code",
   "execution_count": null,
   "metadata": {},
   "outputs": [],
   "source": [
    "x=np.linspace(0, 3*np.pi,50)\n",
    "y=np.sin(x)\n",
    "plt.title(\"Sin(x)\",size=15) \n",
    "plt.ylabel('Eje Y',size=12)\n",
    "plt.xlabel('Eje X',size=12)\n",
    "plt.plot(x, y,'b--',linewidth=5) \n",
    "plt.yticks([y/10 for y in range(-10,11,2)],size=8)\n",
    "plt.xticks(np.linspace(0, 3*np.pi,10),size=8)\n",
    "plt.grid()\n",
    "plt.show() "
   ]
  },
  {
   "cell_type": "markdown",
   "metadata": {},
   "source": [
    "Información de markers, líneas, colores y otras funcionalidades de plot:\n",
    "https://matplotlib.org/3.3.1/api/_as_gen/matplotlib.pyplot.plot.html?highlight=plot#matplotlib.pyplot.plot\n",
    "\n",
    "Colores: https://matplotlib.org/gallery/color/named_colors.html#sphx-glr-gallery-color-named-colors-py\n",
    "\n",
    "<br>\n",
    "\n",
    "También se puede tener dos gráficas en la misma figura:"
   ]
  },
  {
   "cell_type": "code",
   "execution_count": null,
   "metadata": {},
   "outputs": [],
   "source": [
    "N=10\n",
    "np.random.seed(100)\n",
    "x1 = np.random.randint(20, 40, size=N)\n",
    "y1 = np.random.randint(0, 20, size=N)\n",
    "x2 = np.random.randint(50, 65, size=N)\n",
    "y2 = np.random.randint(40, 50, size=N)\n",
    "\n",
    "plt.figure(figsize=(8,6))\n",
    "plt.plot(x1,y1,':',label='Lineas', linewidth=4,color='royalblue')\n",
    "plt.plot(x2,y2,'*',label='Markers', markersize=15,color='orchid')\n",
    "diccionario={'color':'maroon','backgroundcolor':'b','size':15}\n",
    "plt.ylabel('Y',fontdict=diccionario,rotation=0)\n",
    "plt.xlabel('X',fontdict=diccionario)\n",
    "plt.legend(loc='best',fontsize=10,shadow=True)\n",
    "plt.grid(color='k',linestyle='--', linewidth=0.5)\n",
    "plt.show()"
   ]
  },
  {
   "cell_type": "markdown",
   "metadata": {},
   "source": [
    "Personalizar texto: https://matplotlib.org/3.3.3/api/text_api.html#matplotlib.text.Text\n",
    "\n",
    "Por último, veamos otro par de herramientas útiles:"
   ]
  },
  {
   "cell_type": "code",
   "execution_count": null,
   "metadata": {},
   "outputs": [],
   "source": [
    "plt.style.use('ggplot') \n",
    "plt.figure(figsize=(7,7))\n",
    "theta=np.linspace(0,2*np.pi,100)\n",
    "r,cx,cy=3,1,-1\n",
    "x=r*np.cos(theta)+cx\n",
    "y=r*np.sin(theta)+cy\n",
    "plt.plot(x,y)\n",
    "plt.title('Círculo')\n",
    "plt.savefig('imagen.jpg')\n",
    "plt.show()"
   ]
  },
  {
   "cell_type": "code",
   "execution_count": null,
   "metadata": {},
   "outputs": [],
   "source": [
    "print(plt.style.available)"
   ]
  },
  {
   "cell_type": "markdown",
   "metadata": {},
   "source": [
    "Estilos: https://matplotlib.org/3.3.1/gallery/style_sheets/style_sheets_reference.html\n",
    "\n",
    "Otros ejemplos: https://matplotlib.org/tutorials/index.html\n",
    "\n",
    "Muchos ejemplos: https://matplotlib.org/gallery/index.html"
   ]
  },
  {
   "cell_type": "code",
   "execution_count": null,
   "metadata": {},
   "outputs": [],
   "source": []
  }
 ],
 "metadata": {
  "kernelspec": {
   "display_name": "Python 3.10.3 64-bit",
   "language": "python",
   "name": "python3"
  },
  "language_info": {
   "codemirror_mode": {
    "name": "ipython",
    "version": 3
   },
   "file_extension": ".py",
   "mimetype": "text/x-python",
   "name": "python",
   "nbconvert_exporter": "python",
   "pygments_lexer": "ipython3",
   "version": "3.10.5"
  },
  "vscode": {
   "interpreter": {
    "hash": "0500ee97a5acf692a3fae68c042a7fe2448beaab5db2844a869d8b9e06d99759"
   }
  }
 },
 "nbformat": 4,
 "nbformat_minor": 4
}
