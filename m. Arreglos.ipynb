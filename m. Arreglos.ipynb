{
 "cells": [
  {
   "cell_type": "markdown",
   "metadata": {},
   "source": [
    "# <font color='red'> <center>ARREGLOS</center></font>\n",
    "Numpy es una librería de Python la cual dispone de una colección de datos llamada 'ndarray' o simplemente array(arreglo). Estos representan los arreglos o matrices utilizados en otros lenguajes de programación. En tiempo de ejecución son mucho más eficientes que las listas u otras colecciones nativas de Python. Numpy también permite generar estructuras de N dimensiones. Dispone de una gran cantidad de métodos y funciones para operar con estos de manera amplia.\n",
    "\n",
    "Para la creación y manipulación de datos numéricos, Numpy siempre será la mejor herramienta. \n",
    "\n",
    "Documentación oficial: https://numpy.org/doc/stable/"
   ]
  },
  {
   "cell_type": "code",
   "execution_count": null,
   "metadata": {},
   "outputs": [],
   "source": [
    "import numpy as np"
   ]
  },
  {
   "cell_type": "markdown",
   "metadata": {},
   "source": [
    "### Crear arreglos:"
   ]
  },
  {
   "cell_type": "code",
   "execution_count": null,
   "metadata": {},
   "outputs": [],
   "source": [
    "# Arreglo de una dimensión\n",
    "arreglo1d=np.zeros(3) # Arreglo con 3 elementos que son iguales a 0\n",
    "print(arreglo1d)\n",
    "print(type(arreglo1d))\n",
    "print(arreglo1d.shape)\n",
    "print(type(arreglo1d.shape))"
   ]
  },
  {
   "cell_type": "code",
   "execution_count": null,
   "metadata": {},
   "outputs": [],
   "source": [
    "# Arreglo de dos dimensiones\n",
    "arreglo2d=np.ones([4,3]) # Arreglo con 4 filas y 3 columnas donde cada elemento es igual a 1\n",
    "print(arreglo2d)\n",
    "print(type(arreglo2d))\n",
    "print(arreglo2d.shape)\n",
    "print(type(arreglo2d.shape))"
   ]
  },
  {
   "cell_type": "markdown",
   "metadata": {},
   "source": [
    "Los arreglos se pueden crear a partir de listas o tuplas:"
   ]
  },
  {
   "cell_type": "code",
   "execution_count": null,
   "metadata": {},
   "outputs": [],
   "source": [
    "lista=[[1, 2],[3, 4]]\n",
    "print(lista)\n",
    "arregloLista = np.array(lista)\n",
    "print(arregloLista)"
   ]
  },
  {
   "cell_type": "markdown",
   "metadata": {},
   "source": [
    "También se pueden crear arreglos de una dimensión según un número inicial, un número final y un número de avance o cantidad de números en el arreglo:"
   ]
  },
  {
   "cell_type": "code",
   "execution_count": null,
   "metadata": {},
   "outputs": [],
   "source": [
    "a = np.arange(5) \n",
    "print(a)\n",
    "a = np.arange(9,20)\n",
    "print(a)\n",
    "a = np.arange(10,30,4) #   #i,#f,#avance\n",
    "print(a)\n",
    "# Tenga muy en cuenta cual es el número que no se incluye en el arreglo"
   ]
  },
  {
   "cell_type": "code",
   "execution_count": null,
   "metadata": {},
   "outputs": [],
   "source": [
    "a = np.linspace(0,5,7) # #i,#f,#cantidad de números\n",
    "print(a)\n",
    "# EL segundo número si se incluye"
   ]
  },
  {
   "cell_type": "markdown",
   "metadata": {},
   "source": [
    "O incluso arreglos de aleatorios:"
   ]
  },
  {
   "cell_type": "code",
   "execution_count": null,
   "metadata": {},
   "outputs": [],
   "source": [
    "arregloFloat = np.random.uniform(10,40, size=(3,2))\n",
    "print(arregloFloat)\n",
    "arregloInt = np.random.randint(1,7, size=(4,3,2)) \n",
    "print(arregloInt)\n",
    "#Recordar que todo intervalo ingresado es interpretado como: [inferior,superior)"
   ]
  },
  {
   "cell_type": "markdown",
   "metadata": {},
   "source": [
    "Recordemos siempre que los arreglos pueden tener cualquier cantidad de dimensiones!\n",
    "\n",
    "El módulo random de numpy (no confundir con el otro propio de Python) trae una función llamada seed que permite que siempre se generen los mismos números aleatorios. "
   ]
  },
  {
   "cell_type": "code",
   "execution_count": null,
   "metadata": {},
   "outputs": [],
   "source": [
    "np.random.seed(10)\n",
    "arregloInt = np.random.uniform(1,100, size=(4,3)) \n",
    "print(arregloInt)"
   ]
  },
  {
   "cell_type": "markdown",
   "metadata": {},
   "source": [
    "Cuando se tiene que aplicar una misma operación a todo un arreglo existen unas herramientas llamadas funciones vectorizadas, veamos:"
   ]
  },
  {
   "cell_type": "code",
   "execution_count": null,
   "metadata": {},
   "outputs": [],
   "source": [
    "arreglo= np.arange(1,11) \n",
    "arreglo = arreglo.reshape(5,2) # Solo hago esto para mostrar otra herramienta\n",
    "print(arreglo)\n",
    "\n",
    "arregloExp = np.exp(arreglo)\n",
    "print(arregloExp)\n",
    "arregloSin = np.sin(arreglo)\n",
    "print(arregloSin)"
   ]
  },
  {
   "cell_type": "markdown",
   "metadata": {},
   "source": [
    "En el siguiente link se encuentran las otras funciones vectorizadas de Numpy: https://numpy.org/doc/stable/reference/ufuncs.html#available-ufuncs\n",
    "\n",
    "Los índices en los arreglos funcionan bajo la misma lógica que los índices de las listas o las tuplas:"
   ]
  },
  {
   "cell_type": "code",
   "execution_count": null,
   "metadata": {},
   "outputs": [],
   "source": [
    "arreglo = np.random.randint(10, 80, size=(3,2))\n",
    "print(arreglo)\n",
    "print(arreglo[-1]) # Se muestra una fila completa\n",
    "print(arreglo[1][-1]) # Se muestra un valor específico del arreglo"
   ]
  }
 ],
 "metadata": {
  "kernelspec": {
   "display_name": "Python 3.10.3 64-bit",
   "language": "python",
   "name": "python3"
  },
  "language_info": {
   "codemirror_mode": {
    "name": "ipython",
    "version": 3
   },
   "file_extension": ".py",
   "mimetype": "text/x-python",
   "name": "python",
   "nbconvert_exporter": "python",
   "pygments_lexer": "ipython3",
   "version": "3.10.3"
  },
  "vscode": {
   "interpreter": {
    "hash": "0500ee97a5acf692a3fae68c042a7fe2448beaab5db2844a869d8b9e06d99759"
   }
  }
 },
 "nbformat": 4,
 "nbformat_minor": 4
}
