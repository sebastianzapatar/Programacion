{
 "cells": [
  {
   "cell_type": "markdown",
   "metadata": {},
   "source": [
    "# <font color='red'> <center>CONJUNTOS</center></font>\n",
    "\n",
    "Es un colección de datos mutable que no permite elementos duplicados ni tampoco organiza estos por un índice. Sus elementos se separan por comas y se encierran en llaves.\n",
    "\n",
    "Creemos algunos conjuntos:"
   ]
  },
  {
   "cell_type": "code",
   "execution_count": null,
   "metadata": {},
   "outputs": [],
   "source": [
    "c1 = {1,1,1,1,2,2,2,2,3,1,2,3}\n",
    "print(c1)\n",
    "print(type(c1))"
   ]
  },
  {
   "cell_type": "code",
   "execution_count": null,
   "metadata": {},
   "outputs": [],
   "source": [
    "lista = [1,1,1,1,2,2,2,2,3,1,2,3]\n",
    "print(lista)\n",
    "c2 = set(lista)\n",
    "print(c2)\n",
    "otra_lista = list(c2)\n",
    "print(otra_lista)"
   ]
  },
  {
   "cell_type": "markdown",
   "metadata": {},
   "source": [
    "**add:** permite agregar otro elemento al conjunto"
   ]
  },
  {
   "cell_type": "code",
   "execution_count": null,
   "metadata": {},
   "outputs": [],
   "source": [
    "print(c1)\n",
    "c1.add(2)\n",
    "print(c1)\n",
    "c1.add(10)\n",
    "print(c1)"
   ]
  },
  {
   "cell_type": "markdown",
   "metadata": {},
   "source": [
    "**remove:** remueve un elemento del conjunto"
   ]
  },
  {
   "cell_type": "code",
   "execution_count": null,
   "metadata": {},
   "outputs": [],
   "source": [
    "c1.remove(1)\n",
    "print(c1)"
   ]
  },
  {
   "cell_type": "code",
   "execution_count": null,
   "metadata": {},
   "outputs": [],
   "source": [
    "c1.remove(3)\n",
    "print(c1)"
   ]
  },
  {
   "cell_type": "markdown",
   "metadata": {},
   "source": [
    "Veamos algunas operaciones entre conjuntos:"
   ]
  },
  {
   "cell_type": "code",
   "execution_count": null,
   "metadata": {},
   "outputs": [],
   "source": [
    "c1 = {1,2,3,4,5}\n",
    "c2 = {4,5,6,7,8}\n",
    "\n",
    "union = c1|c2\n",
    "print(union)\n",
    "inter = c1&c2\n",
    "print(inter)\n",
    "r1 = c1-c2 # resta de conjuntos: solo quedan los que son exclusivos de c1\n",
    "print(r1)\n",
    "r2 = c2-c1 # resta de conjuntos: solo quedan los que son exclusivos de c2\n",
    "print(r2)"
   ]
  },
  {
   "cell_type": "markdown",
   "metadata": {},
   "source": [
    "Para más información de conjuntos: https://www.geeksforgeeks.org/sets-in-python/"
   ]
  }
 ],
 "metadata": {
  "kernelspec": {
   "display_name": "Python 3.10.3 64-bit",
   "language": "python",
   "name": "python3"
  },
  "language_info": {
   "name": "python",
   "version": "3.10.3"
  },
  "orig_nbformat": 4,
  "vscode": {
   "interpreter": {
    "hash": "0500ee97a5acf692a3fae68c042a7fe2448beaab5db2844a869d8b9e06d99759"
   }
  }
 },
 "nbformat": 4,
 "nbformat_minor": 2
}
